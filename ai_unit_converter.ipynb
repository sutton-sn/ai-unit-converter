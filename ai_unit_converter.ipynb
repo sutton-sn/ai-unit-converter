{
  "nbformat": 4,
  "nbformat_minor": 0,
  "metadata": {
    "colab": {
      "provenance": []
    },
    "kernelspec": {
      "name": "python3",
      "display_name": "Python 3"
    },
    "language_info": {
      "name": "python"
    }
  },
  "cells": [
    {
      "cell_type": "code",
      "execution_count": 51,
      "metadata": {
        "id": "v9wAZmMSfo_E"
      },
      "outputs": [],
      "source": [
        "import tensorflow as tf\n",
        "import numpy as np"
      ]
    },
    {
      "cell_type": "code",
      "source": [
        "celsius = np.array([-40, -10, 0, 8, 15, 22, 38], dtype=float)\n",
        "fahrenheit = np.array([-40, 13, 32, 46, 59, 72, 100], dtype=float)"
      ],
      "metadata": {
        "id": "jhtuY-lJfs1o"
      },
      "execution_count": 52,
      "outputs": []
    },
    {
      "cell_type": "code",
      "source": [
        "#layer = tf.keras.layers.Dense(units=1, input_shape=[1])\n",
        "#model = tf.keras.Sequential([layer])\n",
        "\n",
        "hidden1 = tf.keras.layers.Dense(units=3, input_shape=[1])\n",
        "hidden2 = tf.keras.layers.Dense(units=4)\n",
        "hidden3 = tf.keras.layers.Dense(units=5)\n",
        "hidden4 = tf.keras.layers.Dense(units=4)\n",
        "hidden5 = tf.keras.layers.Dense(units=3)\n",
        "exit = tf.keras.layers.Dense(units=1)\n",
        "model = tf.keras.Sequential([hidden1, hidden2, hidden3, hidden4, hidden5, exit])"
      ],
      "metadata": {
        "id": "p-JZ56NPfzxt"
      },
      "execution_count": 53,
      "outputs": []
    },
    {
      "cell_type": "code",
      "source": [
        "model.compile(\n",
        "    optimizer=tf.keras.optimizers.Adam(0.1),\n",
        "    loss='mean_squared_error'\n",
        ")"
      ],
      "metadata": {
        "id": "KfeSWwarf56O"
      },
      "execution_count": 54,
      "outputs": []
    },
    {
      "cell_type": "code",
      "source": [
        "print(\"Training...\")\n",
        "nztm = model.fit(celsius, fahrenheit, epochs=10000, verbose=False)\n",
        "print(\"Trained!\")"
      ],
      "metadata": {
        "colab": {
          "base_uri": "https://localhost:8080/",
          "height": 0
        },
        "id": "AYsoFwb9f1Dy",
        "outputId": "1954937d-f20c-4071-eb5a-4786e9644a85"
      },
      "execution_count": 55,
      "outputs": [
        {
          "output_type": "stream",
          "name": "stdout",
          "text": [
            "Training...\n",
            "Trained!\n"
          ]
        }
      ]
    },
    {
      "cell_type": "code",
      "source": [
        "import matplotlib.pyplot as plt\n",
        "plt.xlabel(\"# Epoch\")\n",
        "plt.ylabel(\"# Lost magnitude\")\n",
        "plt.plot(nztm.history[\"loss\"])"
      ],
      "metadata": {
        "colab": {
          "base_uri": "https://localhost:8080/",
          "height": 466
        },
        "id": "isLbq-1cf8cK",
        "outputId": "18c0b589-245a-422b-931a-f9d0a9d4a8cb"
      },
      "execution_count": 56,
      "outputs": [
        {
          "output_type": "execute_result",
          "data": {
            "text/plain": [
              "[<matplotlib.lines.Line2D at 0x7e5b33fc51b0>]"
            ]
          },
          "metadata": {},
          "execution_count": 56
        },
        {
          "output_type": "display_data",
          "data": {
            "text/plain": [
              "<Figure size 640x480 with 1 Axes>"
            ],
            "image/png": "[encoded data removed]"
          },
          "metadata": {}
        }
      ]
    },
    {
      "cell_type": "code",
      "source": [
        "data = float(input(\"Hello, enter the degrees Celsius to convert: \"))"
      ],
      "metadata": {
        "colab": {
          "base_uri": "https://localhost:8080/",
          "height": 0
        },
        "id": "lKTr0mPPgVFH",
        "outputId": "9353da28-6943-48bc-d349-0b58edc2e05d"
      },
      "execution_count": 60,
      "outputs": [
        {
          "name": "stdout",
          "output_type": "stream",
          "text": [
            "Hello, enter the degrees Celsius to convert: 890\n"
          ]
        }
      ]
    },
    {
      "cell_type": "code",
      "source": [
        "print(\"Let's make a prediction!\")\n",
        "result = model.predict([[data]])\n",
        "print(\"The result is \" +  str(result) + \" fahrenheit!\")"
      ],
      "metadata": {
        "colab": {
          "base_uri": "https://localhost:8080/",
          "height": 0
        },
        "id": "0ChpK8LkgCaL",
        "outputId": "e548132f-8982-4f9f-d235-896e7b387083"
      },
      "execution_count": 61,
      "outputs": [
        {
          "output_type": "stream",
          "name": "stdout",
          "text": [
            "Let's make a prediction!\n",
            "1/1 [==============================] - 0s 39ms/step\n",
            "The result is [[1635.4473]] fahrenheit!\n"
          ]
        }
      ]
    }
  ]
}
